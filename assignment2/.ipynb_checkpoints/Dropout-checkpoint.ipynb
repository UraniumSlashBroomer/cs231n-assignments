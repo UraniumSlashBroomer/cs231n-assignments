{
 "cells": [
  {
   "cell_type": "markdown",
   "id": "9d410444",
   "metadata": {
    "tags": [
     "pdf-title"
    ]
   },
   "source": [
    "# Dropout\n",
    "Dropout [1] is a technique for regularizing neural networks by randomly setting some output activations to zero during the forward pass. In this exercise, you will implement a dropout layer and modify your fully connected network to optionally use dropout.\n",
    "\n",
    "[1] [Geoffrey E. Hinton et al, \"Improving neural networks by preventing co-adaptation of feature detectors\", arXiv 2012](https://arxiv.org/abs/1207.0580)"
   ]
  },
  {
   "cell_type": "code",
   "execution_count": 1,
   "id": "b6e7f738",
   "metadata": {
    "tags": [
     "pdf-ignore"
    ]
   },
   "outputs": [
    {
     "name": "stdout",
     "output_type": "stream",
     "text": [
      "=========== You can safely ignore the message below if you are NOT working on ConvolutionalNetworks.ipynb ===========\n",
      "\tYou will need to compile a Cython extension for a portion of this assignment.\n",
      "\tThe instructions to do this will be given in a section of the notebook below.\n"
     ]
    }
   ],
   "source": [
    "# Setup cell.\n",
    "import time\n",
    "import numpy as np\n",
    "import matplotlib.pyplot as plt\n",
    "from cs231n.classifiers.fc_net import *\n",
    "from cs231n.data_utils import get_CIFAR10_data\n",
    "from cs231n.gradient_check import eval_numerical_gradient, eval_numerical_gradient_array\n",
    "from cs231n.solver import Solver\n",
    "\n",
    "%matplotlib inline\n",
    "plt.rcParams[\"figure.figsize\"] = (10.0, 8.0)  # Set default size of plots.\n",
    "plt.rcParams[\"image.interpolation\"] = \"nearest\"\n",
    "plt.rcParams[\"image.cmap\"] = \"gray\"\n",
    "\n",
    "%load_ext autoreload\n",
    "%autoreload 2\n",
    "\n",
    "def rel_error(x, y):\n",
    "    \"\"\"Returns relative error.\"\"\"\n",
    "    return np.max(np.abs(x - y) / (np.maximum(1e-8, np.abs(x) + np.abs(y))))"
   ]
  },
  {
   "cell_type": "code",
   "execution_count": 2,
   "id": "8e18dde7",
   "metadata": {
    "tags": [
     "pdf-ignore"
    ]
   },
   "outputs": [
    {
     "name": "stdout",
     "output_type": "stream",
     "text": [
      "X_train: (49000, 3, 32, 32)\n",
      "y_train: (49000,)\n",
      "X_val: (1000, 3, 32, 32)\n",
      "y_val: (1000,)\n",
      "X_test: (1000, 3, 32, 32)\n",
      "y_test: (1000,)\n"
     ]
    }
   ],
   "source": [
    "# Load the (preprocessed) CIFAR-10 data.\n",
    "data = get_CIFAR10_data()\n",
    "for k, v in list(data.items()):\n",
    "    print(f\"{k}: {v.shape}\")"
   ]
  },
  {
   "cell_type": "markdown",
   "id": "050d5e5a",
   "metadata": {},
   "source": [
    "# Dropout: Forward Pass\n",
    "In the file `cs231n/layers.py`, implement the forward pass for dropout. Since dropout behaves differently during training and testing, make sure to implement the operation for both modes.\n",
    "\n",
    "Once you have done so, run the cell below to test your implementation."
   ]
  },
  {
   "cell_type": "code",
   "execution_count": 7,
   "id": "97c6428a",
   "metadata": {},
   "outputs": [
    {
     "name": "stdout",
     "output_type": "stream",
     "text": [
      "Running tests with p =  0.25\n",
      "Mean of input:  10.000207878477502\n",
      "Mean of train-time output:  10.006234670544599\n",
      "Mean of test-time output:  10.000207878477502\n",
      "Fraction of train-time output set to zero:  0.749832\n",
      "Fraction of test-time output set to zero:  0.0\n",
      "\n",
      "Running tests with p =  0.4\n",
      "Mean of input:  10.000207878477502\n",
      "Mean of train-time output:  10.035153558044966\n",
      "Mean of test-time output:  10.000207878477502\n",
      "Fraction of train-time output set to zero:  0.598632\n",
      "Fraction of test-time output set to zero:  0.0\n",
      "\n",
      "Running tests with p =  0.7\n",
      "Mean of input:  10.000207878477502\n",
      "Mean of train-time output:  10.007776657908957\n",
      "Mean of test-time output:  10.000207878477502\n",
      "Fraction of train-time output set to zero:  0.299504\n",
      "Fraction of test-time output set to zero:  0.0\n",
      "\n"
     ]
    }
   ],
   "source": [
    "np.random.seed(231)\n",
    "x = np.random.randn(500, 500) + 10\n",
    "\n",
    "for p in [0.25, 0.4, 0.7]:\n",
    "    out, _ = dropout_forward(x, {'mode': 'train', 'p': p})\n",
    "    out_test, _ = dropout_forward(x, {'mode': 'test', 'p': p})\n",
    "\n",
    "    print('Running tests with p = ', p)\n",
    "    print('Mean of input: ', x.mean())\n",
    "    print('Mean of train-time output: ', out.mean())\n",
    "    print('Mean of test-time output: ', out_test.mean())\n",
    "    print('Fraction of train-time output set to zero: ', (out == 0).mean())\n",
    "    print('Fraction of test-time output set to zero: ', (out_test == 0).mean())\n",
    "    print()"
   ]
  },
  {
   "cell_type": "markdown",
   "id": "07bfbf24",
   "metadata": {},
   "source": [
    "# Dropout: Backward Pass\n",
    "In the file `cs231n/layers.py`, implement the backward pass for dropout. After doing so, run the following cell to numerically gradient-check your implementation."
   ]
  },
  {
   "cell_type": "code",
   "execution_count": 9,
   "id": "7dda920c",
   "metadata": {},
   "outputs": [
    {
     "name": "stdout",
     "output_type": "stream",
     "text": [
      "dx relative error:  1.892894523661062e-11\n"
     ]
    }
   ],
   "source": [
    "np.random.seed(231)\n",
    "x = np.random.randn(10, 10) + 10\n",
    "dout = np.random.randn(*x.shape)\n",
    "\n",
    "dropout_param = {'mode': 'train', 'p': 0.2, 'seed': 123}\n",
    "out, cache = dropout_forward(x, dropout_param)\n",
    "dx = dropout_backward(dout, cache)\n",
    "dx_num = eval_numerical_gradient_array(lambda xx: dropout_forward(xx, dropout_param)[0], x, dout)\n",
    "\n",
    "# Error should be around e-10 or less.\n",
    "print('dx relative error: ', rel_error(dx, dx_num))"
   ]
  },
  {
   "cell_type": "markdown",
   "id": "29f4e661",
   "metadata": {
    "tags": [
     "pdf-inline"
    ]
   },
   "source": [
    "## Inline Question 1:\n",
    "What happens if we do not divide the values being passed through inverse dropout by `p` in the dropout layer? Why does that happen?\n",
    "\n",
    "## Answer:\n",
    "[FILL THIS IN]\n"
   ]
  },
  {
   "cell_type": "markdown",
   "id": "d1fe69cc",
   "metadata": {},
   "source": [
    "# Fully Connected Networks with Dropout\n",
    "In the file `cs231n/classifiers/fc_net.py`, modify your implementation to use dropout. Specifically, if the constructor of the network receives a value that is not 1 for the `dropout_keep_ratio` parameter, then the net should add a dropout layer immediately after every ReLU nonlinearity. After doing so, run the following to numerically gradient-check your implementation."
   ]
  },
  {
   "cell_type": "code",
   "execution_count": 11,
   "id": "2d0bd04d",
   "metadata": {},
   "outputs": [
    {
     "name": "stdout",
     "output_type": "stream",
     "text": [
      "Running check with dropout =  1\n",
      "Initial loss:  2.3004790897684924\n",
      "W1 relative error: 7.70e-08\n",
      "W2 relative error: 1.71e-05\n",
      "W3 relative error: 2.95e-07\n",
      "b1 relative error: 4.66e-09\n",
      "b2 relative error: 2.09e-09\n",
      "b3 relative error: 6.60e-11\n",
      "\n",
      "Running check with dropout =  0.75\n",
      "Initial loss:  2.304869215123599\n",
      "W1 relative error: 2.85e-07\n",
      "W2 relative error: 1.68e-06\n",
      "W3 relative error: 4.68e-07\n",
      "b1 relative error: 2.96e-09\n",
      "b2 relative error: 1.01e-08\n",
      "b3 relative error: 1.19e-10\n",
      "\n",
      "Running check with dropout =  0.5\n",
      "Initial loss:  2.310136908722148\n",
      "W1 relative error: 2.57e-08\n",
      "W2 relative error: 1.49e-08\n",
      "W3 relative error: 4.49e-08\n",
      "b1 relative error: 3.93e-10\n",
      "b2 relative error: 1.91e-09\n",
      "b3 relative error: 1.26e-10\n",
      "\n"
     ]
    }
   ],
   "source": [
    "np.random.seed(231)\n",
    "N, D, H1, H2, C = 2, 15, 20, 30, 10\n",
    "X = np.random.randn(N, D)\n",
    "y = np.random.randint(C, size=(N,))\n",
    "\n",
    "for dropout_keep_ratio in [1, 0.75, 0.5]:\n",
    "    print('Running check with dropout = ', dropout_keep_ratio)\n",
    "    model = FullyConnectedNet(\n",
    "        [H1, H2],\n",
    "        input_dim=D,\n",
    "        num_classes=C,\n",
    "        weight_scale=5e-2,\n",
    "        dtype=np.float64,\n",
    "        dropout_keep_ratio=dropout_keep_ratio,\n",
    "        seed=123\n",
    "    )\n",
    "\n",
    "    loss, grads = model.loss(X, y)\n",
    "    print('Initial loss: ', loss)\n",
    "\n",
    "    # Relative errors should be around e-6 or less.\n",
    "    # Note that it's fine if for dropout_keep_ratio=1 you have W2 error be on the order of e-5.\n",
    "    for name in sorted(grads):\n",
    "        f = lambda _: model.loss(X, y)[0]\n",
    "        grad_num = eval_numerical_gradient(f, model.params[name], verbose=False, h=1e-5)\n",
    "        print('%s relative error: %.2e' % (name, rel_error(grad_num, grads[name])))\n",
    "    print()"
   ]
  },
  {
   "cell_type": "markdown",
   "id": "4ec48fce",
   "metadata": {},
   "source": [
    "# Regularization Experiment\n",
    "As an experiment, we will train a pair of two-layer networks on 500 training examples: one will use no dropout, and one will use a keep probability of 0.25. We will then visualize the training and validation accuracies of the two networks over time."
   ]
  },
  {
   "cell_type": "code",
   "execution_count": 18,
   "id": "0fcf0062",
   "metadata": {},
   "outputs": [
    {
     "name": "stdout",
     "output_type": "stream",
     "text": [
      "1\n",
      "(Iteration 1 / 2500) loss: 8.993791\n",
      "(Epoch 0 / 25) train acc: 0.136000; val_acc: 0.155000\n",
      "(Epoch 1 / 25) train acc: 0.401000; val_acc: 0.335000\n",
      "(Iteration 101 / 2500) loss: 2.666835\n",
      "(Epoch 2 / 25) train acc: 0.529000; val_acc: 0.391000\n",
      "(Iteration 201 / 2500) loss: 1.939100\n",
      "(Epoch 3 / 25) train acc: 0.606000; val_acc: 0.381000\n",
      "(Iteration 301 / 2500) loss: 1.390694\n",
      "(Epoch 4 / 25) train acc: 0.642000; val_acc: 0.405000\n",
      "(Iteration 401 / 2500) loss: 1.217649\n",
      "(Epoch 5 / 25) train acc: 0.676000; val_acc: 0.394000\n",
      "(Iteration 501 / 2500) loss: 0.911694\n",
      "(Epoch 6 / 25) train acc: 0.749000; val_acc: 0.418000\n",
      "(Iteration 601 / 2500) loss: 0.769669\n",
      "(Epoch 7 / 25) train acc: 0.751000; val_acc: 0.414000\n",
      "(Iteration 701 / 2500) loss: 0.903160\n",
      "(Epoch 8 / 25) train acc: 0.792000; val_acc: 0.436000\n",
      "(Iteration 801 / 2500) loss: 0.607354\n",
      "(Epoch 9 / 25) train acc: 0.807000; val_acc: 0.429000\n",
      "(Iteration 901 / 2500) loss: 0.547806\n",
      "(Epoch 10 / 25) train acc: 0.856000; val_acc: 0.447000\n",
      "(Iteration 1001 / 2500) loss: 0.511511\n",
      "(Epoch 11 / 25) train acc: 0.865000; val_acc: 0.394000\n",
      "(Iteration 1101 / 2500) loss: 0.523168\n",
      "(Epoch 12 / 25) train acc: 0.845000; val_acc: 0.412000\n",
      "(Iteration 1201 / 2500) loss: 0.625820\n",
      "(Epoch 13 / 25) train acc: 0.870000; val_acc: 0.423000\n",
      "(Iteration 1301 / 2500) loss: 0.549572\n",
      "(Epoch 14 / 25) train acc: 0.868000; val_acc: 0.438000\n",
      "(Iteration 1401 / 2500) loss: 0.328037\n",
      "(Epoch 15 / 25) train acc: 0.889000; val_acc: 0.428000\n",
      "(Iteration 1501 / 2500) loss: 0.351780\n",
      "(Epoch 16 / 25) train acc: 0.869000; val_acc: 0.413000\n",
      "(Iteration 1601 / 2500) loss: 0.369603\n",
      "(Epoch 17 / 25) train acc: 0.905000; val_acc: 0.424000\n",
      "(Iteration 1701 / 2500) loss: 0.215234\n",
      "(Epoch 18 / 25) train acc: 0.909000; val_acc: 0.424000\n",
      "(Iteration 1801 / 2500) loss: 0.273652\n",
      "(Epoch 19 / 25) train acc: 0.906000; val_acc: 0.429000\n",
      "(Iteration 1901 / 2500) loss: 0.433133\n",
      "(Epoch 20 / 25) train acc: 0.934000; val_acc: 0.427000\n",
      "(Iteration 2001 / 2500) loss: 0.121039\n",
      "(Epoch 21 / 25) train acc: 0.931000; val_acc: 0.435000\n",
      "(Iteration 2101 / 2500) loss: 0.178305\n",
      "(Epoch 22 / 25) train acc: 0.941000; val_acc: 0.423000\n",
      "(Iteration 2201 / 2500) loss: 0.154313\n",
      "(Epoch 23 / 25) train acc: 0.976000; val_acc: 0.419000\n",
      "(Iteration 2301 / 2500) loss: 0.073982\n",
      "(Epoch 24 / 25) train acc: 0.955000; val_acc: 0.431000\n",
      "(Iteration 2401 / 2500) loss: 0.187204\n",
      "(Epoch 25 / 25) train acc: 0.924000; val_acc: 0.437000\n",
      "\n",
      "0.25\n",
      "(Iteration 1 / 2500) loss: 17.030964\n",
      "(Epoch 0 / 25) train acc: 0.100000; val_acc: 0.107000\n",
      "(Epoch 1 / 25) train acc: 0.379000; val_acc: 0.378000\n",
      "(Iteration 101 / 2500) loss: 7.422610\n",
      "(Epoch 2 / 25) train acc: 0.432000; val_acc: 0.408000\n",
      "(Iteration 201 / 2500) loss: 6.820117\n",
      "(Epoch 3 / 25) train acc: 0.466000; val_acc: 0.387000\n",
      "(Iteration 301 / 2500) loss: 5.132975\n",
      "(Epoch 4 / 25) train acc: 0.497000; val_acc: 0.378000\n",
      "(Iteration 401 / 2500) loss: 4.461772\n",
      "(Epoch 5 / 25) train acc: 0.513000; val_acc: 0.393000\n",
      "(Iteration 501 / 2500) loss: 3.404016\n",
      "(Epoch 6 / 25) train acc: 0.510000; val_acc: 0.384000\n",
      "(Iteration 601 / 2500) loss: 2.812450\n",
      "(Epoch 7 / 25) train acc: 0.524000; val_acc: 0.407000\n",
      "(Iteration 701 / 2500) loss: 2.309028\n",
      "(Epoch 8 / 25) train acc: 0.591000; val_acc: 0.402000\n",
      "(Iteration 801 / 2500) loss: 1.965442\n",
      "(Epoch 9 / 25) train acc: 0.555000; val_acc: 0.407000\n",
      "(Iteration 901 / 2500) loss: 1.743047\n",
      "(Epoch 10 / 25) train acc: 0.574000; val_acc: 0.429000\n",
      "(Iteration 1001 / 2500) loss: 1.951329\n",
      "(Epoch 11 / 25) train acc: 0.566000; val_acc: 0.425000\n",
      "(Iteration 1101 / 2500) loss: 1.646661\n",
      "(Epoch 12 / 25) train acc: 0.572000; val_acc: 0.434000\n",
      "(Iteration 1201 / 2500) loss: 1.566836\n",
      "(Epoch 13 / 25) train acc: 0.584000; val_acc: 0.439000\n",
      "(Iteration 1301 / 2500) loss: 1.691250\n",
      "(Epoch 14 / 25) train acc: 0.571000; val_acc: 0.437000\n",
      "(Iteration 1401 / 2500) loss: 1.623238\n",
      "(Epoch 15 / 25) train acc: 0.557000; val_acc: 0.428000\n",
      "(Iteration 1501 / 2500) loss: 1.496888\n",
      "(Epoch 16 / 25) train acc: 0.555000; val_acc: 0.441000\n",
      "(Iteration 1601 / 2500) loss: 1.431407\n",
      "(Epoch 17 / 25) train acc: 0.600000; val_acc: 0.425000\n",
      "(Iteration 1701 / 2500) loss: 1.615507\n",
      "(Epoch 18 / 25) train acc: 0.577000; val_acc: 0.434000\n",
      "(Iteration 1801 / 2500) loss: 1.444339\n",
      "(Epoch 19 / 25) train acc: 0.612000; val_acc: 0.429000\n",
      "(Iteration 1901 / 2500) loss: 1.664725\n",
      "(Epoch 20 / 25) train acc: 0.615000; val_acc: 0.439000\n",
      "(Iteration 2001 / 2500) loss: 1.577977\n",
      "(Epoch 21 / 25) train acc: 0.588000; val_acc: 0.443000\n",
      "(Iteration 2101 / 2500) loss: 1.866852\n",
      "(Epoch 22 / 25) train acc: 0.603000; val_acc: 0.413000\n",
      "(Iteration 2201 / 2500) loss: 1.557075\n",
      "(Epoch 23 / 25) train acc: 0.571000; val_acc: 0.429000\n",
      "(Iteration 2301 / 2500) loss: 1.570940\n",
      "(Epoch 24 / 25) train acc: 0.566000; val_acc: 0.424000\n",
      "(Iteration 2401 / 2500) loss: 1.624346\n",
      "(Epoch 25 / 25) train acc: 0.607000; val_acc: 0.448000\n",
      "\n"
     ]
    }
   ],
   "source": [
    "# Train two identical nets, one with dropout and one without.\n",
    "np.random.seed(231)\n",
    "num_train = 10000 # я поставил 10 тыщ нафиг\n",
    "small_data = {\n",
    "    'X_train': data['X_train'][:num_train],\n",
    "    'y_train': data['y_train'][:num_train],\n",
    "    'X_val': data['X_val'],\n",
    "    'y_val': data['y_val'],\n",
    "}\n",
    "\n",
    "solvers = {}\n",
    "dropout_choices = [1, 0.25]\n",
    "for dropout_keep_ratio in dropout_choices:\n",
    "    model = FullyConnectedNet(\n",
    "        [500],\n",
    "        dropout_keep_ratio=dropout_keep_ratio\n",
    "    )\n",
    "    print(dropout_keep_ratio)\n",
    "\n",
    "    solver = Solver(\n",
    "        model,\n",
    "        small_data,\n",
    "        num_epochs=25,\n",
    "        batch_size=100,\n",
    "        update_rule='adam',\n",
    "        optim_config={'learning_rate': 1e-4,},\n",
    "        verbose=True,\n",
    "        print_every=100\n",
    "    )\n",
    "    solver.train()\n",
    "    solvers[dropout_keep_ratio] = solver\n",
    "    print()"
   ]
  },
  {
   "cell_type": "code",
   "execution_count": 19,
   "id": "abbdd52f",
   "metadata": {},
   "outputs": [
    {
     "data": {
      "image/png": "[encoded data removed]",
      "text/plain": [
       "<Figure size 1500x1500 with 2 Axes>"
      ]
     },
     "metadata": {},
     "output_type": "display_data"
    }
   ],
   "source": [
    "# Plot train and validation accuracies of the two models.\n",
    "train_accs = []\n",
    "val_accs = []\n",
    "for dropout_keep_ratio in dropout_choices:\n",
    "    solver = solvers[dropout_keep_ratio]\n",
    "    train_accs.append(solver.train_acc_history[-1])\n",
    "    val_accs.append(solver.val_acc_history[-1])\n",
    "\n",
    "plt.subplot(3, 1, 1)\n",
    "for dropout_keep_ratio in dropout_choices:\n",
    "    plt.plot(\n",
    "        solvers[dropout_keep_ratio].train_acc_history, 'o', label='%.2f dropout_keep_ratio' % dropout_keep_ratio)\n",
    "plt.title('Train accuracy')\n",
    "plt.xlabel('Epoch')\n",
    "plt.ylabel('Accuracy')\n",
    "plt.legend(ncol=2, loc='lower right')\n",
    "  \n",
    "plt.subplot(3, 1, 2)\n",
    "for dropout_keep_ratio in dropout_choices:\n",
    "    plt.plot(\n",
    "        solvers[dropout_keep_ratio].val_acc_history, 'o', label='%.2f dropout_keep_ratio' % dropout_keep_ratio)\n",
    "plt.title('Val accuracy')\n",
    "plt.xlabel('Epoch')\n",
    "plt.ylabel('Accuracy')\n",
    "plt.legend(ncol=2, loc='lower right')\n",
    "\n",
    "plt.gcf().set_size_inches(15, 15)\n",
    "plt.show()"
   ]
  },
  {
   "cell_type": "markdown",
   "id": "68f32fdf",
   "metadata": {
    "tags": [
     "pdf-inline"
    ]
   },
   "source": [
    "## Inline Question 2:\n",
    "Compare the validation and training accuracies with and without dropout -- what do your results suggest about dropout as a regularizer?\n",
    "\n",
    "## Answer:\n",
    "[FILL THIS IN]\n"
   ]
  }
 ],
 "metadata": {
  "kernelspec": {
   "display_name": "Python 3 (ipykernel)",
   "language": "python",
   "name": "python3"
  },
  "language_info": {
   "codemirror_mode": {
    "name": "ipython",
    "version": 3
   },
   "file_extension": ".py",
   "mimetype": "text/x-python",
   "name": "python",
   "nbconvert_exporter": "python",
   "pygments_lexer": "ipython3",
   "version": "3.12.5"
  }
 },
 "nbformat": 4,
 "nbformat_minor": 5
}
